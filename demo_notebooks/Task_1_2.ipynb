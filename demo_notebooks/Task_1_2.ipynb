{
 "cells": [
  {
   "cell_type": "code",
   "execution_count": 1,
   "metadata": {},
   "outputs": [],
   "source": [
    "%load_ext autoreload\n",
    "%autoreload 2"
   ]
  },
  {
   "cell_type": "code",
   "execution_count": 2,
   "metadata": {},
   "outputs": [],
   "source": [
    "import sys\n",
    "sys.path.append('../langid')\n",
    "\n",
    "import pandas as pd\n",
    "\n",
    "from language_identification.fasttext_lang_id import FasttextLangId"
   ]
  },
  {
   "cell_type": "markdown",
   "metadata": {},
   "source": [
    "## Task 1. Language identification (en, es, pt)"
   ]
  },
  {
   "cell_type": "markdown",
   "metadata": {},
   "source": [
    "### Prediction"
   ]
  },
  {
   "cell_type": "code",
   "execution_count": 3,
   "metadata": {},
   "outputs": [
    {
     "data": {
      "text/plain": [
       "['pt', 'en']"
      ]
     },
     "execution_count": 3,
     "metadata": {},
     "output_type": "execute_result"
    }
   ],
   "source": [
    "model = FasttextLangId('../langid/models/lid.176.ftz')\n",
    "\n",
    "texts = ['Veículos de resgate estavam a apenas 500 metros do Airbus 300 .',\n",
    "        'For that purpose, EFTA States may notify rescue and/or restructuring aid schemes for SMEs.']\n",
    "\n",
    "model.predict(texts)"
   ]
  },
  {
   "cell_type": "markdown",
   "metadata": {},
   "source": [
    "### Evaluation"
   ]
  },
  {
   "cell_type": "code",
   "execution_count": 4,
   "metadata": {},
   "outputs": [
    {
     "name": "stdout",
     "output_type": "stream",
     "text": [
      "Precision for class en: 0.9151138716356108\n",
      "Recall for class en: 0.884\n",
      "\n",
      "Precision for class es: 0.9581545064377682\n",
      "Recall for class es: 0.893\n",
      "\n",
      "Precision for class pt: 0.9885974914481186\n",
      "Recall for class pt: 0.867\n",
      "\n"
     ]
    }
   ],
   "source": [
    "test_data = pd.read_csv('../langid/data/processed_data/test_set.csv')\n",
    "\n",
    "model.evaluate(test_data.text, test_data.label, classes=['en', 'es', 'pt'])"
   ]
  },
  {
   "cell_type": "markdown",
   "metadata": {},
   "source": [
    "## Task 2. Language identification for Portuguese dialects"
   ]
  },
  {
   "cell_type": "markdown",
   "metadata": {},
   "source": [
    "### Prediction"
   ]
  },
  {
   "cell_type": "code",
   "execution_count": 5,
   "metadata": {},
   "outputs": [
    {
     "data": {
      "text/plain": [
       "['pt-br', 'pt-pt']"
      ]
     },
     "execution_count": 5,
     "metadata": {},
     "output_type": "execute_result"
    }
   ],
   "source": [
    "model = FasttextLangId('../langid/models/langid_variants.bin')\n",
    "\n",
    "texts = ['Um antigo diretor recomendava aos novatos aprender a filmar montanhas .', \n",
    "         'Queiroz só pensa em vencer o Rapid e seguir em frente na Taça das Taças .']\n",
    "\n",
    "model.predict(texts)"
   ]
  },
  {
   "cell_type": "markdown",
   "metadata": {},
   "source": [
    "### Evaluation"
   ]
  },
  {
   "cell_type": "code",
   "execution_count": 6,
   "metadata": {},
   "outputs": [
    {
     "name": "stdout",
     "output_type": "stream",
     "text": [
      "Precision for class pt-br: 0.9150080688542227\n",
      "Recall for class pt-br: 0.8505\n",
      "\n",
      "Precision for class pt-pt: 0.8747022391615055\n",
      "Recall for class pt-pt: 0.918\n",
      "\n"
     ]
    }
   ],
   "source": [
    "test_data_variants = pd.read_csv('../langid/data/processed_data/dialects_test.csv')\n",
    "\n",
    "model.evaluate(test_data_variants.text, test_data_variants.label)"
   ]
  }
 ],
 "metadata": {
  "kernelspec": {
   "display_name": "Python 3",
   "language": "python",
   "name": "python3"
  },
  "language_info": {
   "codemirror_mode": {
    "name": "ipython",
    "version": 3
   },
   "file_extension": ".py",
   "mimetype": "text/x-python",
   "name": "python",
   "nbconvert_exporter": "python",
   "pygments_lexer": "ipython3",
   "version": "3.6.0"
  }
 },
 "nbformat": 4,
 "nbformat_minor": 2
}
