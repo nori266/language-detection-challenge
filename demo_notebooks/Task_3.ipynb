{
 "cells": [
  {
   "cell_type": "markdown",
   "metadata": {},
   "source": [
    "## Task 3. Code switching\n",
    "\n",
    "For the code switching task I have chosen BiLSTM model implemented in Pytorch, I used the code from a tutorial https://pytorch.org/tutorials/beginner/nlp/advanced_tutorial.html\n",
    "I have implemented a wrapper BilstmCodeSwitching which complements the model for the task of code switching."
   ]
  },
  {
   "cell_type": "code",
   "execution_count": 1,
   "metadata": {},
   "outputs": [],
   "source": [
    "%load_ext autoreload\n",
    "%autoreload 2"
   ]
  },
  {
   "cell_type": "code",
   "execution_count": 2,
   "metadata": {},
   "outputs": [],
   "source": [
    "import sys\n",
    "sys.path.append('../code_switching/')\n",
    "\n",
    "from code_switching_detection.bilstm_code_switching import BilstmCodeSwitching"
   ]
  },
  {
   "cell_type": "markdown",
   "metadata": {},
   "source": [
    "### Prediction\n",
    "Here the model is loaded from the file and is used for prediction."
   ]
  },
  {
   "cell_type": "code",
   "execution_count": 3,
   "metadata": {},
   "outputs": [
    {
     "data": {
      "text/plain": [
       "[['en', 'en', 'en']]"
      ]
     },
     "execution_count": 3,
     "metadata": {},
     "output_type": "execute_result"
    }
   ],
   "source": [
    "model = BilstmCodeSwitching()\n",
    "model.load('../code_switching/models/model_20ep')\n",
    "model.predict([['I', 'eat', 'bananas']])"
   ]
  },
  {
   "cell_type": "markdown",
   "metadata": {},
   "source": [
    "### Evaluation\n",
    "\n",
    "For evaluation I calculated precision and recall of each language in **token level**."
   ]
  },
  {
   "cell_type": "code",
   "execution_count": 5,
   "metadata": {},
   "outputs": [
    {
     "name": "stdout",
     "output_type": "stream",
     "text": [
      "Precision for en: 0.9497427779976256\n",
      "Recall for en: 0.7926023778071334\n",
      "Precision for es: 0.9393162393162393\n",
      "Recall for es: 0.7878136200716845\n",
      "Precision for other: 0.6451339915373766\n",
      "Recall for other: 0.9653862389193753\n"
     ]
    }
   ],
   "source": [
    "model.evaluate('../code_switching/data/dev_data.tsv')"
   ]
  }
 ],
 "metadata": {
  "kernelspec": {
   "display_name": "Python 3",
   "language": "python",
   "name": "python3"
  },
  "language_info": {
   "codemirror_mode": {
    "name": "ipython",
    "version": 3
   },
   "file_extension": ".py",
   "mimetype": "text/x-python",
   "name": "python",
   "nbconvert_exporter": "python",
   "pygments_lexer": "ipython3",
   "version": "3.6.0"
  }
 },
 "nbformat": 4,
 "nbformat_minor": 2
}
